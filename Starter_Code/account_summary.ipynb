{
 "cells": [
  {
   "cell_type": "markdown",
   "metadata": {},
   "source": [
    "# Budget Analysis\n",
    "\n",
    "---\n",
    "\n",
    "## Environment Setup"
   ]
  },
  {
   "cell_type": "code",
   "execution_count": 141,
   "metadata": {},
   "outputs": [],
   "source": [
    "# Initial Imports\n",
    "import os\n",
    "import plaid\n",
    "import requests\n",
    "import datetime\n",
    "import json\n",
    "import pandas as pd\n",
    "from dotenv import load_dotenv\n",
    "\n",
    "%matplotlib inline"
   ]
  },
  {
   "cell_type": "code",
   "execution_count": 142,
   "metadata": {},
   "outputs": [],
   "source": [
    "# Helper functions\n",
    "\n",
    "def pretty_print_response(response):\n",
    "    \"\"\"\n",
    "    This function formats a JSON file to pretty printing it in the screen.\n",
    "    \"\"\"\n",
    "    print(json.dumps(response, indent=4, sort_keys=True))"
   ]
  },
  {
   "cell_type": "code",
   "execution_count": 143,
   "metadata": {},
   "outputs": [
    {
     "data": {
      "text/plain": [
       "True"
      ]
     },
     "execution_count": 143,
     "metadata": {},
     "output_type": "execute_result"
    }
   ],
   "source": [
    "# Set environment variables from the .env file\n",
    "load_dotenv()"
   ]
  },
  {
   "cell_type": "code",
   "execution_count": 144,
   "metadata": {},
   "outputs": [],
   "source": [
    "# Extract API keys from environment variables\n",
    "PLAID_CLIENT_ID = '5ebb39d5abaad500126289f0'\n",
    "PLAID_PUBLIC_KEY = '2cf4432143b5c1347d73eb8b472abe'\n",
    "PLAID_SECRET_KEY = '9aae4947269275e12b2d4e1ea22836'"
   ]
  },
  {
   "cell_type": "code",
   "execution_count": 145,
   "metadata": {},
   "outputs": [
    {
     "data": {
      "text/plain": [
       "'2cf4432143b5c1347d73eb8b472abe'"
      ]
     },
     "execution_count": 145,
     "metadata": {},
     "output_type": "execute_result"
    }
   ],
   "source": [
    "PLAID_PUBLIC_KEY"
   ]
  },
  {
   "cell_type": "code",
   "execution_count": 146,
   "metadata": {},
   "outputs": [
    {
     "data": {
      "text/plain": [
       "'9aae4947269275e12b2d4e1ea22836'"
      ]
     },
     "execution_count": 146,
     "metadata": {},
     "output_type": "execute_result"
    }
   ],
   "source": [
    "PLAID_SECRET_KEY"
   ]
  },
  {
   "cell_type": "code",
   "execution_count": 147,
   "metadata": {},
   "outputs": [
    {
     "data": {
      "text/plain": [
       "'5ebb39d5abaad500126289f0'"
      ]
     },
     "execution_count": 147,
     "metadata": {},
     "output_type": "execute_result"
    }
   ],
   "source": [
    "PLAID_CLIENT_ID"
   ]
  },
  {
   "cell_type": "markdown",
   "metadata": {},
   "source": [
    "---\n",
    "\n",
    "## Plaid Access Token\n",
    "\n",
    "In this section, you will use the `plaid-python` API to generate the correct authentication tokens to access data in the free developer Sandbox. This mimics how you might connect to your own account or a customer account, but due to privacy issues, this homework will only require connecting to and analyzing the fake data from the developer sandbox that Plaid provides. \n",
    "\n",
    "Complete the following steps to generate an access token:\n",
    "\n",
    "1. Create a client to connect to plaid\n",
    "\n",
    "2. Use the client to generate a public token and request the following items: ['transactions', 'income', 'assets']\n",
    "\n",
    "3. Exchange the public token for an access token\n",
    "\n",
    "4. Test the access token by requesting and printing the available test accounts"
   ]
  },
  {
   "cell_type": "markdown",
   "metadata": {},
   "source": [
    "### 1. Create a client to connect to plaid"
   ]
  },
  {
   "cell_type": "code",
   "execution_count": 148,
   "metadata": {},
   "outputs": [],
   "source": [
    "# Create the client object\n",
    "client = plaid.Client(client_id=PLAID_CLIENT_ID, secret=PLAID_SECRET, public_key=PLAID_PUBLIC_KEY, environment=\"sandbox\")"
   ]
  },
  {
   "cell_type": "code",
   "execution_count": 149,
   "metadata": {},
   "outputs": [],
   "source": [
    "# Create client object\n",
    "client = plaid.Client(client_id=PLAID_CLIENT_ID, secret=PLAID_SECRET_KEY, public_key=PLAID_PUBLIC_KEY, environment='sandbox')\n"
   ]
  },
  {
   "cell_type": "code",
   "execution_count": 157,
   "metadata": {},
   "outputs": [],
   "source": [
    "# Set the institution id\n",
    "INSITUTION_ID = \"ins_109508\""
   ]
  },
  {
   "cell_type": "markdown",
   "metadata": {},
   "source": [
    "### 2. Generate a public token"
   ]
  },
  {
   "cell_type": "code",
   "execution_count": 158,
   "metadata": {},
   "outputs": [],
   "source": [
    "# Create the public token\n",
    "create_tkn_response = client.Sandbox.public_token.create(INSITUTION_ID, ['transactions','income','assets'])"
   ]
  },
  {
   "cell_type": "markdown",
   "metadata": {},
   "source": [
    "### 3. Exchange the public token for an access token"
   ]
  },
  {
   "cell_type": "code",
   "execution_count": 159,
   "metadata": {},
   "outputs": [],
   "source": [
    "# Retrieve the access token\n",
    "exchange_response = client.Item.public_token.exchange(create_tkn_response['public_token'])"
   ]
  },
  {
   "cell_type": "code",
   "execution_count": 160,
   "metadata": {},
   "outputs": [],
   "source": [
    "# Store the access token in a Python variable\n",
    "access_token = exchange_response['access_token']"
   ]
  },
  {
   "cell_type": "markdown",
   "metadata": {},
   "source": [
    "### 4. Fetch Accounts"
   ]
  },
  {
   "cell_type": "code",
   "execution_count": 161,
   "metadata": {},
   "outputs": [
    {
     "data": {
      "text/plain": [
       "{'accounts': [{'account_id': 'k9RlwrMExbfa34PNKGxMS5BQaV33qMTWK78q1',\n",
       "   'balances': {'available': 100,\n",
       "    'current': 110,\n",
       "    'iso_currency_code': 'USD',\n",
       "    'limit': None,\n",
       "    'unofficial_currency_code': None},\n",
       "   'mask': '0000',\n",
       "   'name': 'Plaid Checking',\n",
       "   'official_name': 'Plaid Gold Standard 0% Interest Checking',\n",
       "   'subtype': 'checking',\n",
       "   'type': 'depository'},\n",
       "  {'account_id': 'lvRk7zmE9WF13naPvxdDH3XldnNNA7iZ8BrnB',\n",
       "   'balances': {'available': 200,\n",
       "    'current': 210,\n",
       "    'iso_currency_code': 'USD',\n",
       "    'limit': None,\n",
       "    'unofficial_currency_code': None},\n",
       "   'mask': '1111',\n",
       "   'name': 'Plaid Saving',\n",
       "   'official_name': 'Plaid Silver Standard 0.1% Interest Saving',\n",
       "   'subtype': 'savings',\n",
       "   'type': 'depository'},\n",
       "  {'account_id': 'qr63laJwbXfmMG5rdXJosK4eMx55oLudklVLP',\n",
       "   'balances': {'available': None,\n",
       "    'current': 1000,\n",
       "    'iso_currency_code': 'USD',\n",
       "    'limit': None,\n",
       "    'unofficial_currency_code': None},\n",
       "   'mask': '2222',\n",
       "   'name': 'Plaid CD',\n",
       "   'official_name': 'Plaid Bronze Standard 0.2% Interest CD',\n",
       "   'subtype': 'cd',\n",
       "   'type': 'depository'},\n",
       "  {'account_id': 'KqLoRrAk4aUKRdgDMvzqSZKyzBEE7XtVbomKp',\n",
       "   'balances': {'available': None,\n",
       "    'current': 410,\n",
       "    'iso_currency_code': 'USD',\n",
       "    'limit': 2000,\n",
       "    'unofficial_currency_code': None},\n",
       "   'mask': '3333',\n",
       "   'name': 'Plaid Credit Card',\n",
       "   'official_name': 'Plaid Diamond 12.5% APR Interest Credit Card',\n",
       "   'subtype': 'credit card',\n",
       "   'type': 'credit'},\n",
       "  {'account_id': 'rz6xq47EgRugB5RzayjZTRmbMoXX1BulgbDpR',\n",
       "   'balances': {'available': 43200,\n",
       "    'current': 43200,\n",
       "    'iso_currency_code': 'USD',\n",
       "    'limit': None,\n",
       "    'unofficial_currency_code': None},\n",
       "   'mask': '4444',\n",
       "   'name': 'Plaid Money Market',\n",
       "   'official_name': 'Plaid Platinum Standard 1.85% Interest Money Market',\n",
       "   'subtype': 'money market',\n",
       "   'type': 'depository'},\n",
       "  {'account_id': 'zP6eJElKaMi69AePZzVycGBembKKrDSoWdgM5',\n",
       "   'balances': {'available': None,\n",
       "    'current': 320.76,\n",
       "    'iso_currency_code': 'USD',\n",
       "    'limit': None,\n",
       "    'unofficial_currency_code': None},\n",
       "   'mask': '5555',\n",
       "   'name': 'Plaid IRA',\n",
       "   'official_name': None,\n",
       "   'subtype': 'ira',\n",
       "   'type': 'investment'},\n",
       "  {'account_id': 'BGojwgLPDlugVRnPaAMjT8qBjeggvQcwnvLXG',\n",
       "   'balances': {'available': None,\n",
       "    'current': 23631.9805,\n",
       "    'iso_currency_code': 'USD',\n",
       "    'limit': None,\n",
       "    'unofficial_currency_code': None},\n",
       "   'mask': '6666',\n",
       "   'name': 'Plaid 401k',\n",
       "   'official_name': None,\n",
       "   'subtype': '401k',\n",
       "   'type': 'investment'},\n",
       "  {'account_id': '3jZRPDn1GBiV79AkxGX1H173avkkeRcq3g8Q1',\n",
       "   'balances': {'available': None,\n",
       "    'current': 65262,\n",
       "    'iso_currency_code': 'USD',\n",
       "    'limit': None,\n",
       "    'unofficial_currency_code': None},\n",
       "   'mask': '7777',\n",
       "   'name': 'Plaid Student Loan',\n",
       "   'official_name': None,\n",
       "   'subtype': 'student',\n",
       "   'type': 'loan'},\n",
       "  {'account_id': 'x46jxZDlgBuDdg84exJzs4AM5RZZPvfnvMAko',\n",
       "   'balances': {'available': None,\n",
       "    'current': 56302.06,\n",
       "    'iso_currency_code': 'USD',\n",
       "    'limit': None,\n",
       "    'unofficial_currency_code': None},\n",
       "   'mask': '8888',\n",
       "   'name': 'Plaid Mortgage',\n",
       "   'official_name': None,\n",
       "   'subtype': 'mortgage',\n",
       "   'type': 'loan'}],\n",
       " 'item': {'available_products': ['auth',\n",
       "   'balance',\n",
       "   'credit_details',\n",
       "   'identity',\n",
       "   'investments',\n",
       "   'liabilities'],\n",
       "  'billed_products': ['assets', 'income', 'transactions'],\n",
       "  'consent_expiration_time': None,\n",
       "  'error': None,\n",
       "  'institution_id': 'ins_109508',\n",
       "  'item_id': '6QkqX1nlemugW4Eo5X6AT58bKNoZkZhgRRvbw',\n",
       "  'webhook': ''},\n",
       " 'request_id': '1861mifeaaKrCH8'}"
      ]
     },
     "execution_count": 161,
     "metadata": {},
     "output_type": "execute_result"
    }
   ],
   "source": [
    "# Retrieve accounts\n",
    "client.Accounts.get(access_token)"
   ]
  },
  {
   "cell_type": "markdown",
   "metadata": {},
   "source": [
    "---\n",
    "\n",
    "# Account Transactions with Plaid\n",
    "\n",
    "In this section, you will use the Plaid Python SDK to connect to the Developer Sandbox account and grab a list of transactions. You will need to complete the following steps:\n",
    "\n",
    "\n",
    "1. Use the access token to fetch the transactions for the last 90 days\n",
    "\n",
    "2. Print the categories for each transaction type\n",
    "\n",
    "3. Create a new DataFrame using the following fields from the JSON transaction data: `date, name, amount, category`. (For categories with more than one label, just use the first category label in the list)\n",
    "\n",
    "4. Convert the data types to the appropriate types (i.e. datetimeindex for the date and float for the amount)"
   ]
  },
  {
   "cell_type": "markdown",
   "metadata": {},
   "source": [
    "### 1. Fetch the Transactions for the last 90 days"
   ]
  },
  {
   "cell_type": "code",
   "execution_count": 163,
   "metadata": {},
   "outputs": [
    {
     "name": "stdout",
     "output_type": "stream",
     "text": [
      "[{'account_id': 'KqLoRrAk4aUKRdgDMvzqSZKyzBEE7XtVbomKp', 'account_owner': None, 'amount': 500, 'authorized_date': None, 'category': ['Food and Drink', 'Restaurants'], 'category_id': '13005000', 'date': '2020-05-25', 'iso_currency_code': 'USD', 'location': {'address': None, 'city': None, 'country': None, 'lat': None, 'lon': None, 'postal_code': None, 'region': None, 'store_number': None}, 'name': 'Tectra Inc', 'payment_channel': 'in store', 'payment_meta': {'by_order_of': None, 'payee': None, 'payer': None, 'payment_method': None, 'payment_processor': None, 'ppd_id': None, 'reason': None, 'reference_number': None}, 'pending': False, 'pending_transaction_id': None, 'transaction_code': None, 'transaction_id': 'oq6zbk1EJXUNnagq3LmkSeXKxaB9rruXLaAlk', 'transaction_type': 'place', 'unofficial_currency_code': None}, {'account_id': 'KqLoRrAk4aUKRdgDMvzqSZKyzBEE7XtVbomKp', 'account_owner': None, 'amount': 2078.5, 'authorized_date': None, 'category': ['Payment'], 'category_id': '16000000', 'date': '2020-05-24', 'iso_currency_code': 'USD', 'location': {'address': None, 'city': None, 'country': None, 'lat': None, 'lon': None, 'postal_code': None, 'region': None, 'store_number': None}, 'name': 'AUTOMATIC PAYMENT - THANK', 'payment_channel': 'other', 'payment_meta': {'by_order_of': None, 'payee': None, 'payer': None, 'payment_method': None, 'payment_processor': None, 'ppd_id': None, 'reason': None, 'reference_number': None}, 'pending': False, 'pending_transaction_id': None, 'transaction_code': None, 'transaction_id': 'EmLQ7gVewNS63v1DPJAGcRJXA6gjwwfjDwzKr', 'transaction_type': 'special', 'unofficial_currency_code': None}, {'account_id': 'KqLoRrAk4aUKRdgDMvzqSZKyzBEE7XtVbomKp', 'account_owner': None, 'amount': 500, 'authorized_date': None, 'category': ['Food and Drink', 'Restaurants', 'Fast Food'], 'category_id': '13005032', 'date': '2020-05-24', 'iso_currency_code': 'USD', 'location': {'address': None, 'city': None, 'country': None, 'lat': None, 'lon': None, 'postal_code': None, 'region': None, 'store_number': None}, 'name': 'KFC', 'payment_channel': 'in store', 'payment_meta': {'by_order_of': None, 'payee': None, 'payer': None, 'payment_method': None, 'payment_processor': None, 'ppd_id': None, 'reason': None, 'reference_number': None}, 'pending': False, 'pending_transaction_id': None, 'transaction_code': None, 'transaction_id': '8Mor68JKDwtDbE1KXZ9rsLraVQKXeeixdA5lz', 'transaction_type': 'place', 'unofficial_currency_code': None}, {'account_id': 'KqLoRrAk4aUKRdgDMvzqSZKyzBEE7XtVbomKp', 'account_owner': None, 'amount': 500, 'authorized_date': None, 'category': ['Shops', 'Sporting Goods'], 'category_id': '19046000', 'date': '2020-05-24', 'iso_currency_code': 'USD', 'location': {'address': None, 'city': None, 'country': None, 'lat': None, 'lon': None, 'postal_code': None, 'region': None, 'store_number': None}, 'name': 'Madison Bicycle Shop', 'payment_channel': 'in store', 'payment_meta': {'by_order_of': None, 'payee': None, 'payer': None, 'payment_method': None, 'payment_processor': None, 'ppd_id': None, 'reason': None, 'reference_number': None}, 'pending': False, 'pending_transaction_id': None, 'transaction_code': None, 'transaction_id': 'gnDgpLM9PAuoQm759GANSxAw7DZebbCl3b9mM', 'transaction_type': 'place', 'unofficial_currency_code': None}, {'account_id': 'lvRk7zmE9WF13naPvxdDH3XldnNNA7iZ8BrnB', 'account_owner': None, 'amount': 25, 'authorized_date': None, 'category': ['Payment', 'Credit Card'], 'category_id': '16001000', 'date': '2020-05-15', 'iso_currency_code': 'USD', 'location': {'address': None, 'city': None, 'country': None, 'lat': None, 'lon': None, 'postal_code': None, 'region': None, 'store_number': None}, 'name': 'CREDIT CARD 3333 PAYMENT *//', 'payment_channel': 'other', 'payment_meta': {'by_order_of': None, 'payee': None, 'payer': None, 'payment_method': None, 'payment_processor': None, 'ppd_id': None, 'reason': None, 'reference_number': None}, 'pending': False, 'pending_transaction_id': None, 'transaction_code': None, 'transaction_id': '1NARJD6Z4yux4VERDlLotJ38ZqpaGGfQWgVJ5', 'transaction_type': 'special', 'unofficial_currency_code': None}, {'account_id': 'k9RlwrMExbfa34PNKGxMS5BQaV33qMTWK78q1', 'account_owner': None, 'amount': 5.4, 'authorized_date': None, 'category': ['Travel', 'Taxi'], 'category_id': '22016000', 'date': '2020-05-15', 'iso_currency_code': 'USD', 'location': {'address': None, 'city': None, 'country': None, 'lat': None, 'lon': None, 'postal_code': None, 'region': None, 'store_number': None}, 'name': 'Uber', 'payment_channel': 'in store', 'payment_meta': {'by_order_of': None, 'payee': None, 'payer': None, 'payment_method': None, 'payment_processor': None, 'ppd_id': None, 'reason': None, 'reference_number': None}, 'pending': False, 'pending_transaction_id': None, 'transaction_code': None, 'transaction_id': 'jyRWpKLEJZtWz6w4qde7Ure6R1wzbbFyp59Xd', 'transaction_type': 'special', 'unofficial_currency_code': None}, {'account_id': 'rz6xq47EgRugB5RzayjZTRmbMoXX1BulgbDpR', 'account_owner': None, 'amount': 5850, 'authorized_date': None, 'category': ['Transfer', 'Debit'], 'category_id': '21006000', 'date': '2020-05-14', 'iso_currency_code': 'USD', 'location': {'address': None, 'city': None, 'country': None, 'lat': None, 'lon': None, 'postal_code': None, 'region': None, 'store_number': None}, 'name': 'ACH Electronic CreditGUSTO PAY 123456', 'payment_channel': 'other', 'payment_meta': {'by_order_of': None, 'payee': None, 'payer': None, 'payment_method': 'ACH', 'payment_processor': None, 'ppd_id': None, 'reason': None, 'reference_number': None}, 'pending': False, 'pending_transaction_id': None, 'transaction_code': None, 'transaction_id': 'G9VMwEnZy3fAvw4L7alMSBg96xyXqqcWElweR', 'transaction_type': 'special', 'unofficial_currency_code': None}, {'account_id': 'qr63laJwbXfmMG5rdXJosK4eMx55oLudklVLP', 'account_owner': None, 'amount': 1000, 'authorized_date': None, 'category': ['Transfer', 'Deposit'], 'category_id': '21007000', 'date': '2020-05-14', 'iso_currency_code': 'USD', 'location': {'address': None, 'city': None, 'country': None, 'lat': None, 'lon': None, 'postal_code': None, 'region': None, 'store_number': None}, 'name': 'CD DEPOSIT .INITIAL.', 'payment_channel': 'other', 'payment_meta': {'by_order_of': None, 'payee': None, 'payer': None, 'payment_method': None, 'payment_processor': None, 'ppd_id': None, 'reason': None, 'reference_number': None}, 'pending': False, 'pending_transaction_id': None, 'transaction_code': None, 'transaction_id': 'pK6BgdMwPLu5ZvXKxbAkhMpja1KXzzhDR4e1J', 'transaction_type': 'special', 'unofficial_currency_code': None}, {'account_id': 'KqLoRrAk4aUKRdgDMvzqSZKyzBEE7XtVbomKp', 'account_owner': None, 'amount': 78.5, 'authorized_date': None, 'category': ['Recreation', 'Gyms and Fitness Centers'], 'category_id': '17018000', 'date': '2020-05-13', 'iso_currency_code': 'USD', 'location': {'address': None, 'city': None, 'country': None, 'lat': None, 'lon': None, 'postal_code': None, 'region': None, 'store_number': None}, 'name': 'Touchstone Climbing', 'payment_channel': 'in store', 'payment_meta': {'by_order_of': None, 'payee': None, 'payer': None, 'payment_method': None, 'payment_processor': None, 'ppd_id': None, 'reason': None, 'reference_number': None}, 'pending': False, 'pending_transaction_id': None, 'transaction_code': None, 'transaction_id': 'WjBxJeXNL8ipy7VoLJQ6U9ERj6wXddHWLrxmB', 'transaction_type': 'place', 'unofficial_currency_code': None}, {'account_id': 'k9RlwrMExbfa34PNKGxMS5BQaV33qMTWK78q1', 'account_owner': None, 'amount': -500, 'authorized_date': None, 'category': ['Travel', 'Airlines and Aviation Services'], 'category_id': '22001000', 'date': '2020-05-13', 'iso_currency_code': 'USD', 'location': {'address': None, 'city': None, 'country': None, 'lat': None, 'lon': None, 'postal_code': None, 'region': None, 'store_number': None}, 'name': 'United Airlines', 'payment_channel': 'other', 'payment_meta': {'by_order_of': None, 'payee': None, 'payer': None, 'payment_method': None, 'payment_processor': None, 'ppd_id': None, 'reason': None, 'reference_number': None}, 'pending': False, 'pending_transaction_id': None, 'transaction_code': None, 'transaction_id': '7ZgKPWRqaQFJMeDkq5gAHlAMKE7epptNvW39q', 'transaction_type': 'special', 'unofficial_currency_code': None}, {'account_id': 'k9RlwrMExbfa34PNKGxMS5BQaV33qMTWK78q1', 'account_owner': None, 'amount': 12, 'authorized_date': None, 'category': ['Food and Drink', 'Restaurants', 'Fast Food'], 'category_id': '13005032', 'date': '2020-05-12', 'iso_currency_code': 'USD', 'location': {'address': None, 'city': None, 'country': None, 'lat': None, 'lon': None, 'postal_code': None, 'region': None, 'store_number': '3322'}, 'name': \"McDonald's\", 'payment_channel': 'in store', 'payment_meta': {'by_order_of': None, 'payee': None, 'payer': None, 'payment_method': None, 'payment_processor': None, 'ppd_id': None, 'reason': None, 'reference_number': None}, 'pending': False, 'pending_transaction_id': None, 'transaction_code': None, 'transaction_id': 'eARp68MEPauE8XZBWnJPSgbPMeKWaafM6NPjX', 'transaction_type': 'place', 'unofficial_currency_code': None}, {'account_id': 'k9RlwrMExbfa34PNKGxMS5BQaV33qMTWK78q1', 'account_owner': None, 'amount': 4.33, 'authorized_date': None, 'category': ['Food and Drink', 'Restaurants', 'Coffee Shop'], 'category_id': '13005043', 'date': '2020-05-12', 'iso_currency_code': 'USD', 'location': {'address': None, 'city': None, 'country': None, 'lat': None, 'lon': None, 'postal_code': None, 'region': None, 'store_number': None}, 'name': 'Starbucks', 'payment_channel': 'in store', 'payment_meta': {'by_order_of': None, 'payee': None, 'payer': None, 'payment_method': None, 'payment_processor': None, 'ppd_id': None, 'reason': None, 'reference_number': None}, 'pending': False, 'pending_transaction_id': None, 'transaction_code': None, 'transaction_id': 'QxRqzapBXVuVakRLWgvxHMl1mLPJnnhkyxB8L', 'transaction_type': 'place', 'unofficial_currency_code': None}, {'account_id': 'k9RlwrMExbfa34PNKGxMS5BQaV33qMTWK78q1', 'account_owner': None, 'amount': 89.4, 'authorized_date': None, 'category': ['Food and Drink', 'Restaurants'], 'category_id': '13005000', 'date': '2020-05-11', 'iso_currency_code': 'USD', 'location': {'address': None, 'city': None, 'country': None, 'lat': None, 'lon': None, 'postal_code': None, 'region': None, 'store_number': None}, 'name': 'SparkFun', 'payment_channel': 'in store', 'payment_meta': {'by_order_of': None, 'payee': None, 'payer': None, 'payment_method': None, 'payment_processor': None, 'ppd_id': None, 'reason': None, 'reference_number': None}, 'pending': False, 'pending_transaction_id': None, 'transaction_code': None, 'transaction_id': 'ZQk4bGE78guBRg6dbEvQf753GQKWAAI8Q5WKn', 'transaction_type': 'place', 'unofficial_currency_code': None}, {'account_id': 'lvRk7zmE9WF13naPvxdDH3XldnNNA7iZ8BrnB', 'account_owner': None, 'amount': -4.22, 'authorized_date': None, 'category': ['Transfer', 'Credit'], 'category_id': '21005000', 'date': '2020-05-10', 'iso_currency_code': 'USD', 'location': {'address': None, 'city': None, 'country': None, 'lat': None, 'lon': None, 'postal_code': None, 'region': None, 'store_number': None}, 'name': 'INTRST PYMNT', 'payment_channel': 'other', 'payment_meta': {'by_order_of': None, 'payee': None, 'payer': None, 'payment_method': None, 'payment_processor': None, 'ppd_id': None, 'reason': None, 'reference_number': None}, 'pending': False, 'pending_transaction_id': None, 'transaction_code': None, 'transaction_id': 'LKAkMzpl4ju78Azk1ZBKSQrXjVNEMMILDbBrk', 'transaction_type': 'special', 'unofficial_currency_code': None}, {'account_id': 'KqLoRrAk4aUKRdgDMvzqSZKyzBEE7XtVbomKp', 'account_owner': None, 'amount': 500, 'authorized_date': None, 'category': ['Travel', 'Airlines and Aviation Services'], 'category_id': '22001000', 'date': '2020-04-30', 'iso_currency_code': 'USD', 'location': {'address': None, 'city': None, 'country': None, 'lat': None, 'lon': None, 'postal_code': None, 'region': None, 'store_number': None}, 'name': 'United Airlines', 'payment_channel': 'in store', 'payment_meta': {'by_order_of': None, 'payee': None, 'payer': None, 'payment_method': None, 'payment_processor': None, 'ppd_id': None, 'reason': None, 'reference_number': None}, 'pending': False, 'pending_transaction_id': None, 'transaction_code': None, 'transaction_id': 'AAoP1vwNxQuBDbkNdEJAfnBMPqagEEfWG7MXM', 'transaction_type': 'special', 'unofficial_currency_code': None}, {'account_id': 'k9RlwrMExbfa34PNKGxMS5BQaV33qMTWK78q1', 'account_owner': None, 'amount': 6.33, 'authorized_date': None, 'category': ['Travel', 'Taxi'], 'category_id': '22016000', 'date': '2020-04-28', 'iso_currency_code': 'USD', 'location': {'address': None, 'city': None, 'country': None, 'lat': None, 'lon': None, 'postal_code': None, 'region': None, 'store_number': None}, 'name': 'Uber', 'payment_channel': 'in store', 'payment_meta': {'by_order_of': None, 'payee': None, 'payer': None, 'payment_method': None, 'payment_processor': None, 'ppd_id': None, 'reason': None, 'reference_number': None}, 'pending': False, 'pending_transaction_id': None, 'transaction_code': None, 'transaction_id': 'Mrn8lBgqjwf8bKQALk3rflALGBqmRRtDnBkMD', 'transaction_type': 'special', 'unofficial_currency_code': None}, {'account_id': 'KqLoRrAk4aUKRdgDMvzqSZKyzBEE7XtVbomKp', 'account_owner': None, 'amount': 500, 'authorized_date': None, 'category': ['Food and Drink', 'Restaurants'], 'category_id': '13005000', 'date': '2020-04-25', 'iso_currency_code': 'USD', 'location': {'address': None, 'city': None, 'country': None, 'lat': None, 'lon': None, 'postal_code': None, 'region': None, 'store_number': None}, 'name': 'Tectra Inc', 'payment_channel': 'in store', 'payment_meta': {'by_order_of': None, 'payee': None, 'payer': None, 'payment_method': None, 'payment_processor': None, 'ppd_id': None, 'reason': None, 'reference_number': None}, 'pending': False, 'pending_transaction_id': None, 'transaction_code': None, 'transaction_id': 'AAoP1vwNxQuBDbkNdEJAfnBlvDbob4C1ELyPw', 'transaction_type': 'place', 'unofficial_currency_code': None}, {'account_id': 'KqLoRrAk4aUKRdgDMvzqSZKyzBEE7XtVbomKp', 'account_owner': None, 'amount': 2078.5, 'authorized_date': None, 'category': ['Payment'], 'category_id': '16000000', 'date': '2020-04-24', 'iso_currency_code': 'USD', 'location': {'address': None, 'city': None, 'country': None, 'lat': None, 'lon': None, 'postal_code': None, 'region': None, 'store_number': None}, 'name': 'AUTOMATIC PAYMENT - THANK', 'payment_channel': 'other', 'payment_meta': {'by_order_of': None, 'payee': None, 'payer': None, 'payment_method': None, 'payment_processor': None, 'ppd_id': None, 'reason': None, 'reference_number': None}, 'pending': False, 'pending_transaction_id': None, 'transaction_code': None, 'transaction_id': 'WjBxJeXNL8ipy7VoLJQ6U9EVk8zxzDSlK3vE9', 'transaction_type': 'special', 'unofficial_currency_code': None}, {'account_id': 'KqLoRrAk4aUKRdgDMvzqSZKyzBEE7XtVbomKp', 'account_owner': None, 'amount': 500, 'authorized_date': None, 'category': ['Food and Drink', 'Restaurants', 'Fast Food'], 'category_id': '13005032', 'date': '2020-04-24', 'iso_currency_code': 'USD', 'location': {'address': None, 'city': None, 'country': None, 'lat': None, 'lon': None, 'postal_code': None, 'region': None, 'store_number': None}, 'name': 'KFC', 'payment_channel': 'in store', 'payment_meta': {'by_order_of': None, 'payee': None, 'payer': None, 'payment_method': None, 'payment_processor': None, 'ppd_id': None, 'reason': None, 'reference_number': None}, 'pending': False, 'pending_transaction_id': None, 'transaction_code': None, 'transaction_id': 'EmLQ7gVewNS63v1DPJAGcRJm8ov3vVCXJ8VlB', 'transaction_type': 'place', 'unofficial_currency_code': None}, {'account_id': 'KqLoRrAk4aUKRdgDMvzqSZKyzBEE7XtVbomKp', 'account_owner': None, 'amount': 500, 'authorized_date': None, 'category': ['Shops', 'Sporting Goods'], 'category_id': '19046000', 'date': '2020-04-24', 'iso_currency_code': 'USD', 'location': {'address': None, 'city': None, 'country': None, 'lat': None, 'lon': None, 'postal_code': None, 'region': None, 'store_number': None}, 'name': 'Madison Bicycle Shop', 'payment_channel': 'in store', 'payment_meta': {'by_order_of': None, 'payee': None, 'payer': None, 'payment_method': None, 'payment_processor': None, 'ppd_id': None, 'reason': None, 'reference_number': None}, 'pending': False, 'pending_transaction_id': None, 'transaction_code': None, 'transaction_id': '8Mor68JKDwtDbE1KXZ9rsLrk4z575ltwj7zmn', 'transaction_type': 'place', 'unofficial_currency_code': None}, {'account_id': 'lvRk7zmE9WF13naPvxdDH3XldnNNA7iZ8BrnB', 'account_owner': None, 'amount': 25, 'authorized_date': None, 'category': ['Payment', 'Credit Card'], 'category_id': '16001000', 'date': '2020-04-15', 'iso_currency_code': 'USD', 'location': {'address': None, 'city': None, 'country': None, 'lat': None, 'lon': None, 'postal_code': None, 'region': None, 'store_number': None}, 'name': 'CREDIT CARD 3333 PAYMENT *//', 'payment_channel': 'other', 'payment_meta': {'by_order_of': None, 'payee': None, 'payer': None, 'payment_method': None, 'payment_processor': None, 'ppd_id': None, 'reason': None, 'reference_number': None}, 'pending': False, 'pending_transaction_id': None, 'transaction_code': None, 'transaction_id': 'bkRMp9DE63cqXzNKPWAQSbn9qQlGjzfVQnzd3', 'transaction_type': 'special', 'unofficial_currency_code': None}, {'account_id': 'k9RlwrMExbfa34PNKGxMS5BQaV33qMTWK78q1', 'account_owner': None, 'amount': 5.4, 'authorized_date': None, 'category': ['Travel', 'Taxi'], 'category_id': '22016000', 'date': '2020-04-15', 'iso_currency_code': 'USD', 'location': {'address': None, 'city': None, 'country': None, 'lat': None, 'lon': None, 'postal_code': None, 'region': None, 'store_number': None}, 'name': 'Uber', 'payment_channel': 'in store', 'payment_meta': {'by_order_of': None, 'payee': None, 'payer': None, 'payment_method': None, 'payment_processor': None, 'ppd_id': None, 'reason': None, 'reference_number': None}, 'pending': False, 'pending_transaction_id': None, 'transaction_code': None, 'transaction_id': 'k9RlwrMExbfa34PNKGxMS5BL8W96n4SWK7wkJ', 'transaction_type': 'special', 'unofficial_currency_code': None}, {'account_id': 'rz6xq47EgRugB5RzayjZTRmbMoXX1BulgbDpR', 'account_owner': None, 'amount': 5850, 'authorized_date': None, 'category': ['Transfer', 'Debit'], 'category_id': '21006000', 'date': '2020-04-14', 'iso_currency_code': 'USD', 'location': {'address': None, 'city': None, 'country': None, 'lat': None, 'lon': None, 'postal_code': None, 'region': None, 'store_number': None}, 'name': 'ACH Electronic CreditGUSTO PAY 123456', 'payment_channel': 'other', 'payment_meta': {'by_order_of': None, 'payee': None, 'payer': None, 'payment_method': 'ACH', 'payment_processor': None, 'ppd_id': None, 'reason': None, 'reference_number': None}, 'pending': False, 'pending_transaction_id': None, 'transaction_code': None, 'transaction_id': '3jZRPDn1GBiV79AkxGX1H17l9jLXLduq3gPE9', 'transaction_type': 'special', 'unofficial_currency_code': None}, {'account_id': 'qr63laJwbXfmMG5rdXJosK4eMx55oLudklVLP', 'account_owner': None, 'amount': 1000, 'authorized_date': None, 'category': ['Transfer', 'Deposit'], 'category_id': '21007000', 'date': '2020-04-14', 'iso_currency_code': 'USD', 'location': {'address': None, 'city': None, 'country': None, 'lat': None, 'lon': None, 'postal_code': None, 'region': None, 'store_number': None}, 'name': 'CD DEPOSIT .INITIAL.', 'payment_channel': 'other', 'payment_meta': {'by_order_of': None, 'payee': None, 'payer': None, 'payment_method': None, 'payment_processor': None, 'ppd_id': None, 'reason': None, 'reference_number': None}, 'pending': False, 'pending_transaction_id': None, 'transaction_code': None, 'transaction_id': 'rz6xq47EgRugB5RzayjZTRmP3xGKGqClgboV9', 'transaction_type': 'special', 'unofficial_currency_code': None}, {'account_id': 'KqLoRrAk4aUKRdgDMvzqSZKyzBEE7XtVbomKp', 'account_owner': None, 'amount': 78.5, 'authorized_date': None, 'category': ['Recreation', 'Gyms and Fitness Centers'], 'category_id': '17018000', 'date': '2020-04-13', 'iso_currency_code': 'USD', 'location': {'address': None, 'city': None, 'country': None, 'lat': None, 'lon': None, 'postal_code': None, 'region': None, 'store_number': None}, 'name': 'Touchstone Climbing', 'payment_channel': 'in store', 'payment_meta': {'by_order_of': None, 'payee': None, 'payer': None, 'payment_method': None, 'payment_processor': None, 'ppd_id': None, 'reason': None, 'reference_number': None}, 'pending': False, 'pending_transaction_id': None, 'transaction_code': None, 'transaction_id': 'gnDgpLM9PAuoQm759GANSxA9g58a8EfgqNr1b', 'transaction_type': 'place', 'unofficial_currency_code': None}, {'account_id': 'k9RlwrMExbfa34PNKGxMS5BQaV33qMTWK78q1', 'account_owner': None, 'amount': -500, 'authorized_date': None, 'category': ['Travel', 'Airlines and Aviation Services'], 'category_id': '22001000', 'date': '2020-04-13', 'iso_currency_code': 'USD', 'location': {'address': None, 'city': None, 'country': None, 'lat': None, 'lon': None, 'postal_code': None, 'region': None, 'store_number': None}, 'name': 'United Airlines', 'payment_channel': 'other', 'payment_meta': {'by_order_of': None, 'payee': None, 'payer': None, 'payment_method': None, 'payment_processor': None, 'ppd_id': None, 'reason': None, 'reference_number': None}, 'pending': False, 'pending_transaction_id': None, 'transaction_code': None, 'transaction_id': 'JlypkKwL4aiJkwKoZ8rlH4dqWm5wv3FdqXZmB', 'transaction_type': 'special', 'unofficial_currency_code': None}, {'account_id': 'k9RlwrMExbfa34PNKGxMS5BQaV33qMTWK78q1', 'account_owner': None, 'amount': 12, 'authorized_date': None, 'category': ['Food and Drink', 'Restaurants', 'Fast Food'], 'category_id': '13005032', 'date': '2020-04-12', 'iso_currency_code': 'USD', 'location': {'address': None, 'city': None, 'country': None, 'lat': None, 'lon': None, 'postal_code': None, 'region': None, 'store_number': '3322'}, 'name': \"McDonald's\", 'payment_channel': 'in store', 'payment_meta': {'by_order_of': None, 'payee': None, 'payer': None, 'payment_method': None, 'payment_processor': None, 'ppd_id': None, 'reason': None, 'reference_number': None}, 'pending': False, 'pending_transaction_id': None, 'transaction_code': None, 'transaction_id': 'wa6P3eREbAFqjzJa7x1yS5jyeMpEwnSrjzLJg', 'transaction_type': 'place', 'unofficial_currency_code': None}, {'account_id': 'k9RlwrMExbfa34PNKGxMS5BQaV33qMTWK78q1', 'account_owner': None, 'amount': 4.33, 'authorized_date': None, 'category': ['Food and Drink', 'Restaurants', 'Coffee Shop'], 'category_id': '13005043', 'date': '2020-04-12', 'iso_currency_code': 'USD', 'location': {'address': None, 'city': None, 'country': None, 'lat': None, 'lon': None, 'postal_code': None, 'region': None, 'store_number': None}, 'name': 'Starbucks', 'payment_channel': 'in store', 'payment_meta': {'by_order_of': None, 'payee': None, 'payer': None, 'payment_method': None, 'payment_processor': None, 'ppd_id': None, 'reason': None, 'reference_number': None}, 'pending': False, 'pending_transaction_id': None, 'transaction_code': None, 'transaction_id': '5eXl71np4xfGNyDvLJnAhkRWLvAX3BsZMXg9Z', 'transaction_type': 'place', 'unofficial_currency_code': None}, {'account_id': 'k9RlwrMExbfa34PNKGxMS5BQaV33qMTWK78q1', 'account_owner': None, 'amount': 89.4, 'authorized_date': None, 'category': ['Food and Drink', 'Restaurants'], 'category_id': '13005000', 'date': '2020-04-11', 'iso_currency_code': 'USD', 'location': {'address': None, 'city': None, 'country': None, 'lat': None, 'lon': None, 'postal_code': None, 'region': None, 'store_number': None}, 'name': 'SparkFun', 'payment_channel': 'in store', 'payment_meta': {'by_order_of': None, 'payee': None, 'payer': None, 'payment_method': None, 'payment_processor': None, 'ppd_id': None, 'reason': None, 'reference_number': None}, 'pending': False, 'pending_transaction_id': None, 'transaction_code': None, 'transaction_id': 'VPz3p7Z4a1irQBVWXwePHmBzxPK3DMcWeQRzb', 'transaction_type': 'place', 'unofficial_currency_code': None}, {'account_id': 'lvRk7zmE9WF13naPvxdDH3XldnNNA7iZ8BrnB', 'account_owner': None, 'amount': -4.22, 'authorized_date': None, 'category': ['Transfer', 'Credit'], 'category_id': '21005000', 'date': '2020-04-10', 'iso_currency_code': 'USD', 'location': {'address': None, 'city': None, 'country': None, 'lat': None, 'lon': None, 'postal_code': None, 'region': None, 'store_number': None}, 'name': 'INTRST PYMNT', 'payment_channel': 'other', 'payment_meta': {'by_order_of': None, 'payee': None, 'payer': None, 'payment_method': None, 'payment_processor': None, 'ppd_id': None, 'reason': None, 'reference_number': None}, 'pending': False, 'pending_transaction_id': None, 'transaction_code': None, 'transaction_id': 'nl6r43REMpipeEalkW48Uqm7a3PWRpt6w9EnK', 'transaction_type': 'special', 'unofficial_currency_code': None}, {'account_id': 'KqLoRrAk4aUKRdgDMvzqSZKyzBEE7XtVbomKp', 'account_owner': None, 'amount': 500, 'authorized_date': None, 'category': ['Travel', 'Airlines and Aviation Services'], 'category_id': '22001000', 'date': '2020-03-31', 'iso_currency_code': 'USD', 'location': {'address': None, 'city': None, 'country': None, 'lat': None, 'lon': None, 'postal_code': None, 'region': None, 'store_number': None}, 'name': 'United Airlines', 'payment_channel': 'in store', 'payment_meta': {'by_order_of': None, 'payee': None, 'payer': None, 'payment_method': None, 'payment_processor': None, 'ppd_id': None, 'reason': None, 'reference_number': None}, 'pending': False, 'pending_transaction_id': None, 'transaction_code': None, 'transaction_id': 'X73doDbPg1uo9wDgBVZ7SWBPEqdRdNhdqkyEW', 'transaction_type': 'special', 'unofficial_currency_code': None}, {'account_id': 'k9RlwrMExbfa34PNKGxMS5BQaV33qMTWK78q1', 'account_owner': None, 'amount': 6.33, 'authorized_date': None, 'category': ['Travel', 'Taxi'], 'category_id': '22016000', 'date': '2020-03-29', 'iso_currency_code': 'USD', 'location': {'address': None, 'city': None, 'country': None, 'lat': None, 'lon': None, 'postal_code': None, 'region': None, 'store_number': None}, 'name': 'Uber', 'payment_channel': 'in store', 'payment_meta': {'by_order_of': None, 'payee': None, 'payer': None, 'payment_method': None, 'payment_processor': None, 'ppd_id': None, 'reason': None, 'reference_number': None}, 'pending': False, 'pending_transaction_id': None, 'transaction_code': None, 'transaction_id': 'DbEeo9n71RtGq1zLNXebhwN1nEL35lIvxNnbl', 'transaction_type': 'special', 'unofficial_currency_code': None}, {'account_id': 'KqLoRrAk4aUKRdgDMvzqSZKyzBEE7XtVbomKp', 'account_owner': None, 'amount': 500, 'authorized_date': None, 'category': ['Food and Drink', 'Restaurants'], 'category_id': '13005000', 'date': '2020-03-26', 'iso_currency_code': 'USD', 'location': {'address': None, 'city': None, 'country': None, 'lat': None, 'lon': None, 'postal_code': None, 'region': None, 'store_number': None}, 'name': 'Tectra Inc', 'payment_channel': 'in store', 'payment_meta': {'by_order_of': None, 'payee': None, 'payer': None, 'payment_method': None, 'payment_processor': None, 'ppd_id': None, 'reason': None, 'reference_number': None}, 'pending': False, 'pending_transaction_id': None, 'transaction_code': None, 'transaction_id': '6QkqX1nlemugW4Eo5X6AT58Ddyj1jAUgLQG3R', 'transaction_type': 'place', 'unofficial_currency_code': None}, {'account_id': 'KqLoRrAk4aUKRdgDMvzqSZKyzBEE7XtVbomKp', 'account_owner': None, 'amount': 2078.5, 'authorized_date': None, 'category': ['Payment'], 'category_id': '16000000', 'date': '2020-03-25', 'iso_currency_code': 'USD', 'location': {'address': None, 'city': None, 'country': None, 'lat': None, 'lon': None, 'postal_code': None, 'region': None, 'store_number': None}, 'name': 'AUTOMATIC PAYMENT - THANK', 'payment_channel': 'other', 'payment_meta': {'by_order_of': None, 'payee': None, 'payer': None, 'payment_method': None, 'payment_processor': None, 'ppd_id': None, 'reason': None, 'reference_number': None}, 'pending': False, 'pending_transaction_id': None, 'transaction_code': None, 'transaction_id': 'RdlKB4w3QVuX9Dj1J8NdFlJEowVKVWFR3NJ4g', 'transaction_type': 'special', 'unofficial_currency_code': None}, {'account_id': 'KqLoRrAk4aUKRdgDMvzqSZKyzBEE7XtVbomKp', 'account_owner': None, 'amount': 500, 'authorized_date': None, 'category': ['Food and Drink', 'Restaurants', 'Fast Food'], 'category_id': '13005032', 'date': '2020-03-25', 'iso_currency_code': 'USD', 'location': {'address': None, 'city': None, 'country': None, 'lat': None, 'lon': None, 'postal_code': None, 'region': None, 'store_number': None}, 'name': 'KFC', 'payment_channel': 'in store', 'payment_meta': {'by_order_of': None, 'payee': None, 'payer': None, 'payment_method': None, 'payment_processor': None, 'ppd_id': None, 'reason': None, 'reference_number': None}, 'pending': False, 'pending_transaction_id': None, 'transaction_code': None, 'transaction_id': 'vd6NB7gXM5uWxqMdjAeKUQazZokgkDFWAblRQ', 'transaction_type': 'place', 'unofficial_currency_code': None}, {'account_id': 'KqLoRrAk4aUKRdgDMvzqSZKyzBEE7XtVbomKp', 'account_owner': None, 'amount': 500, 'authorized_date': None, 'category': ['Shops', 'Sporting Goods'], 'category_id': '19046000', 'date': '2020-03-25', 'iso_currency_code': 'USD', 'location': {'address': None, 'city': None, 'country': None, 'lat': None, 'lon': None, 'postal_code': None, 'region': None, 'store_number': None}, 'name': 'Madison Bicycle Shop', 'payment_channel': 'in store', 'payment_meta': {'by_order_of': None, 'payee': None, 'payer': None, 'payment_method': None, 'payment_processor': None, 'ppd_id': None, 'reason': None, 'reference_number': None}, 'pending': False, 'pending_transaction_id': None, 'transaction_code': None, 'transaction_id': '91ozkgRrdVtK4DbrlRgAS8lVEZorowCRaonDx', 'transaction_type': 'place', 'unofficial_currency_code': None}, {'account_id': 'lvRk7zmE9WF13naPvxdDH3XldnNNA7iZ8BrnB', 'account_owner': None, 'amount': 25, 'authorized_date': None, 'category': ['Payment', 'Credit Card'], 'category_id': '16001000', 'date': '2020-03-16', 'iso_currency_code': 'USD', 'location': {'address': None, 'city': None, 'country': None, 'lat': None, 'lon': None, 'postal_code': None, 'region': None, 'store_number': None}, 'name': 'CREDIT CARD 3333 PAYMENT *//', 'payment_channel': 'other', 'payment_meta': {'by_order_of': None, 'payee': None, 'payer': None, 'payment_method': None, 'payment_processor': None, 'ppd_id': None, 'reason': None, 'reference_number': None}, 'pending': False, 'pending_transaction_id': None, 'transaction_code': None, 'transaction_id': 'G9VMwEnZy3fAvw4L7alMSBgyNJ3WerC1yK8QG', 'transaction_type': 'special', 'unofficial_currency_code': None}, {'account_id': 'k9RlwrMExbfa34PNKGxMS5BQaV33qMTWK78q1', 'account_owner': None, 'amount': 5.4, 'authorized_date': None, 'category': ['Travel', 'Taxi'], 'category_id': '22016000', 'date': '2020-03-16', 'iso_currency_code': 'USD', 'location': {'address': None, 'city': None, 'country': None, 'lat': None, 'lon': None, 'postal_code': None, 'region': None, 'store_number': None}, 'name': 'Uber', 'payment_channel': 'in store', 'payment_meta': {'by_order_of': None, 'payee': None, 'payer': None, 'payment_method': None, 'payment_processor': None, 'ppd_id': None, 'reason': None, 'reference_number': None}, 'pending': False, 'pending_transaction_id': None, 'transaction_code': None, 'transaction_id': 'X73doDbPg1uo9wDgBVZ7SWBAnbvdGwudqkyGr', 'transaction_type': 'special', 'unofficial_currency_code': None}, {'account_id': 'rz6xq47EgRugB5RzayjZTRmbMoXX1BulgbDpR', 'account_owner': None, 'amount': 5850, 'authorized_date': None, 'category': ['Transfer', 'Debit'], 'category_id': '21006000', 'date': '2020-03-15', 'iso_currency_code': 'USD', 'location': {'address': None, 'city': None, 'country': None, 'lat': None, 'lon': None, 'postal_code': None, 'region': None, 'store_number': None}, 'name': 'ACH Electronic CreditGUSTO PAY 123456', 'payment_channel': 'other', 'payment_meta': {'by_order_of': None, 'payee': None, 'payer': None, 'payment_method': 'ACH', 'payment_processor': None, 'ppd_id': None, 'reason': None, 'reference_number': None}, 'pending': False, 'pending_transaction_id': None, 'transaction_code': None, 'transaction_id': 'BGojwgLPDlugVRnPaAMjT8qXkdR7RwCwnvZje', 'transaction_type': 'special', 'unofficial_currency_code': None}, {'account_id': 'qr63laJwbXfmMG5rdXJosK4eMx55oLudklVLP', 'account_owner': None, 'amount': 1000, 'authorized_date': None, 'category': ['Transfer', 'Deposit'], 'category_id': '21007000', 'date': '2020-03-15', 'iso_currency_code': 'USD', 'location': {'address': None, 'city': None, 'country': None, 'lat': None, 'lon': None, 'postal_code': None, 'region': None, 'store_number': None}, 'name': 'CD DEPOSIT .INITIAL.', 'payment_channel': 'other', 'payment_meta': {'by_order_of': None, 'payee': None, 'payer': None, 'payment_method': None, 'payment_processor': None, 'ppd_id': None, 'reason': None, 'reference_number': None}, 'pending': False, 'pending_transaction_id': None, 'transaction_code': None, 'transaction_id': 'KqLoRrAk4aUKRdgDMvzqSZKaVodgdWfVbonao', 'transaction_type': 'special', 'unofficial_currency_code': None}, {'account_id': 'KqLoRrAk4aUKRdgDMvzqSZKyzBEE7XtVbomKp', 'account_owner': None, 'amount': 78.5, 'authorized_date': None, 'category': ['Recreation', 'Gyms and Fitness Centers'], 'category_id': '17018000', 'date': '2020-03-14', 'iso_currency_code': 'USD', 'location': {'address': None, 'city': None, 'country': None, 'lat': None, 'lon': None, 'postal_code': None, 'region': None, 'store_number': None}, 'name': 'Touchstone Climbing', 'payment_channel': 'in store', 'payment_meta': {'by_order_of': None, 'payee': None, 'payer': None, 'payment_method': None, 'payment_processor': None, 'ppd_id': None, 'reason': None, 'reference_number': None}, 'pending': False, 'pending_transaction_id': None, 'transaction_code': None, 'transaction_id': 'yN67dZkqM3uK45eNvWnBSwl3DMX4XQFyeP5An', 'transaction_type': 'place', 'unofficial_currency_code': None}, {'account_id': 'k9RlwrMExbfa34PNKGxMS5BQaV33qMTWK78q1', 'account_owner': None, 'amount': -500, 'authorized_date': None, 'category': ['Travel', 'Airlines and Aviation Services'], 'category_id': '22001000', 'date': '2020-03-14', 'iso_currency_code': 'USD', 'location': {'address': None, 'city': None, 'country': None, 'lat': None, 'lon': None, 'postal_code': None, 'region': None, 'store_number': None}, 'name': 'United Airlines', 'payment_channel': 'other', 'payment_meta': {'by_order_of': None, 'payee': None, 'payer': None, 'payment_method': None, 'payment_processor': None, 'ppd_id': None, 'reason': None, 'reference_number': None}, 'pending': False, 'pending_transaction_id': None, 'transaction_code': None, 'transaction_id': '6QkqX1nlemugW4Eo5X6AT58zpGwj9eSgLQG45', 'transaction_type': 'special', 'unofficial_currency_code': None}, {'account_id': 'k9RlwrMExbfa34PNKGxMS5BQaV33qMTWK78q1', 'account_owner': None, 'amount': 12, 'authorized_date': None, 'category': ['Food and Drink', 'Restaurants', 'Fast Food'], 'category_id': '13005032', 'date': '2020-03-13', 'iso_currency_code': 'USD', 'location': {'address': None, 'city': None, 'country': None, 'lat': None, 'lon': None, 'postal_code': None, 'region': None, 'store_number': '3322'}, 'name': \"McDonald's\", 'payment_channel': 'in store', 'payment_meta': {'by_order_of': None, 'payee': None, 'payer': None, 'payment_method': None, 'payment_processor': None, 'ppd_id': None, 'reason': None, 'reference_number': None}, 'pending': False, 'pending_transaction_id': None, 'transaction_code': None, 'transaction_id': 'vd6NB7gXM5uWxqMdjAeKUQa469wkVWcWAblrx', 'transaction_type': 'place', 'unofficial_currency_code': None}, {'account_id': 'k9RlwrMExbfa34PNKGxMS5BQaV33qMTWK78q1', 'account_owner': None, 'amount': 4.33, 'authorized_date': None, 'category': ['Food and Drink', 'Restaurants', 'Coffee Shop'], 'category_id': '13005043', 'date': '2020-03-13', 'iso_currency_code': 'USD', 'location': {'address': None, 'city': None, 'country': None, 'lat': None, 'lon': None, 'postal_code': None, 'region': None, 'store_number': None}, 'name': 'Starbucks', 'payment_channel': 'in store', 'payment_meta': {'by_order_of': None, 'payee': None, 'payer': None, 'payment_method': None, 'payment_processor': None, 'ppd_id': None, 'reason': None, 'reference_number': None}, 'pending': False, 'pending_transaction_id': None, 'transaction_code': None, 'transaction_id': 'RdlKB4w3QVuX9Dj1J8NdFlJkXx4Ve7fR3NJ8y', 'transaction_type': 'place', 'unofficial_currency_code': None}, {'account_id': 'k9RlwrMExbfa34PNKGxMS5BQaV33qMTWK78q1', 'account_owner': None, 'amount': 89.4, 'authorized_date': None, 'category': ['Food and Drink', 'Restaurants'], 'category_id': '13005000', 'date': '2020-03-12', 'iso_currency_code': 'USD', 'location': {'address': None, 'city': None, 'country': None, 'lat': None, 'lon': None, 'postal_code': None, 'region': None, 'store_number': None}, 'name': 'SparkFun', 'payment_channel': 'in store', 'payment_meta': {'by_order_of': None, 'payee': None, 'payer': None, 'payment_method': None, 'payment_processor': None, 'ppd_id': None, 'reason': None, 'reference_number': None}, 'pending': False, 'pending_transaction_id': None, 'transaction_code': None, 'transaction_id': '91ozkgRrdVtK4DbrlRgAS8lPWepoGkuRaonjG', 'transaction_type': 'place', 'unofficial_currency_code': None}, {'account_id': 'lvRk7zmE9WF13naPvxdDH3XldnNNA7iZ8BrnB', 'account_owner': None, 'amount': -4.22, 'authorized_date': None, 'category': ['Transfer', 'Credit'], 'category_id': '21005000', 'date': '2020-03-11', 'iso_currency_code': 'USD', 'location': {'address': None, 'city': None, 'country': None, 'lat': None, 'lon': None, 'postal_code': None, 'region': None, 'store_number': None}, 'name': 'INTRST PYMNT', 'payment_channel': 'other', 'payment_meta': {'by_order_of': None, 'payee': None, 'payer': None, 'payment_method': None, 'payment_processor': None, 'ppd_id': None, 'reason': None, 'reference_number': None}, 'pending': False, 'pending_transaction_id': None, 'transaction_code': None, 'transaction_id': 'AAoP1vwNxQuBDbkNdEJAfnBa13Qbjyi1ELyd9', 'transaction_type': 'special', 'unofficial_currency_code': None}, {'account_id': 'KqLoRrAk4aUKRdgDMvzqSZKyzBEE7XtVbomKp', 'account_owner': None, 'amount': 500, 'authorized_date': None, 'category': ['Travel', 'Airlines and Aviation Services'], 'category_id': '22001000', 'date': '2020-03-01', 'iso_currency_code': 'USD', 'location': {'address': None, 'city': None, 'country': None, 'lat': None, 'lon': None, 'postal_code': None, 'region': None, 'store_number': None}, 'name': 'United Airlines', 'payment_channel': 'in store', 'payment_meta': {'by_order_of': None, 'payee': None, 'payer': None, 'payment_method': None, 'payment_processor': None, 'ppd_id': None, 'reason': None, 'reference_number': None}, 'pending': False, 'pending_transaction_id': None, 'transaction_code': None, 'transaction_id': 'mR6KJBMygLfWp7JRzVa6UZ9mvLyry5fLzePJe', 'transaction_type': 'special', 'unofficial_currency_code': None}, {'account_id': 'k9RlwrMExbfa34PNKGxMS5BQaV33qMTWK78q1', 'account_owner': None, 'amount': 6.33, 'authorized_date': None, 'category': ['Travel', 'Taxi'], 'category_id': '22016000', 'date': '2020-02-28', 'iso_currency_code': 'USD', 'location': {'address': None, 'city': None, 'country': None, 'lat': None, 'lon': None, 'postal_code': None, 'region': None, 'store_number': None}, 'name': 'Uber', 'payment_channel': 'in store', 'payment_meta': {'by_order_of': None, 'payee': None, 'payer': None, 'payment_method': None, 'payment_processor': None, 'ppd_id': None, 'reason': None, 'reference_number': None}, 'pending': False, 'pending_transaction_id': None, 'transaction_code': None, 'transaction_id': 'yN67dZkqM3uK45eNvWnBSwlpyeVXgKIyeP5xa', 'transaction_type': 'special', 'unofficial_currency_code': None}]\n"
     ]
    }
   ],
   "source": [
    "# Set the start and end date 90 days from today\n",
    "start_date = '{:%Y-%m-%d}'.format(datetime.datetime.now() + datetime.timedelta(-90))\n",
    "end_date = '{:%Y-%m-%d}'.format(datetime.datetime.now())\n",
    "\n",
    "# Retrieve the transactions for the last 90 days\n",
    "transaction_response = client.Transactions.get(access_token,start_date,end_date)\n",
    "transactions = transaction_response['transactions']\n",
    "\n",
    "# Print the transactions\n",
    "print(transactions)"
   ]
  },
  {
   "cell_type": "markdown",
   "metadata": {},
   "source": [
    "### 2. Print the categories for each transaction"
   ]
  },
  {
   "cell_type": "code",
   "execution_count": 165,
   "metadata": {},
   "outputs": [
    {
     "name": "stdout",
     "output_type": "stream",
     "text": [
      "['Food and Drink', 'Restaurants']\n",
      "['Payment']\n",
      "['Food and Drink', 'Restaurants', 'Fast Food']\n",
      "['Shops', 'Sporting Goods']\n",
      "['Payment', 'Credit Card']\n",
      "['Travel', 'Taxi']\n",
      "['Transfer', 'Debit']\n",
      "['Transfer', 'Deposit']\n",
      "['Recreation', 'Gyms and Fitness Centers']\n",
      "['Travel', 'Airlines and Aviation Services']\n",
      "['Food and Drink', 'Restaurants', 'Fast Food']\n",
      "['Food and Drink', 'Restaurants', 'Coffee Shop']\n",
      "['Food and Drink', 'Restaurants']\n",
      "['Transfer', 'Credit']\n",
      "['Travel', 'Airlines and Aviation Services']\n",
      "['Travel', 'Taxi']\n",
      "['Food and Drink', 'Restaurants']\n",
      "['Payment']\n",
      "['Food and Drink', 'Restaurants', 'Fast Food']\n",
      "['Shops', 'Sporting Goods']\n",
      "['Payment', 'Credit Card']\n",
      "['Travel', 'Taxi']\n",
      "['Transfer', 'Debit']\n",
      "['Transfer', 'Deposit']\n",
      "['Recreation', 'Gyms and Fitness Centers']\n",
      "['Travel', 'Airlines and Aviation Services']\n",
      "['Food and Drink', 'Restaurants', 'Fast Food']\n",
      "['Food and Drink', 'Restaurants', 'Coffee Shop']\n",
      "['Food and Drink', 'Restaurants']\n",
      "['Transfer', 'Credit']\n",
      "['Travel', 'Airlines and Aviation Services']\n",
      "['Travel', 'Taxi']\n",
      "['Food and Drink', 'Restaurants']\n",
      "['Payment']\n",
      "['Food and Drink', 'Restaurants', 'Fast Food']\n",
      "['Shops', 'Sporting Goods']\n",
      "['Payment', 'Credit Card']\n",
      "['Travel', 'Taxi']\n",
      "['Transfer', 'Debit']\n",
      "['Transfer', 'Deposit']\n",
      "['Recreation', 'Gyms and Fitness Centers']\n",
      "['Travel', 'Airlines and Aviation Services']\n",
      "['Food and Drink', 'Restaurants', 'Fast Food']\n",
      "['Food and Drink', 'Restaurants', 'Coffee Shop']\n",
      "['Food and Drink', 'Restaurants']\n",
      "['Transfer', 'Credit']\n",
      "['Travel', 'Airlines and Aviation Services']\n",
      "['Travel', 'Taxi']\n"
     ]
    }
   ],
   "source": [
    "# Create a for-loop to print the categories for each transaction\n",
    "for transaction in transactions:\n",
    "    print(transaction[\"category\"])"
   ]
  },
  {
   "cell_type": "markdown",
   "metadata": {},
   "source": [
    "### 3. Create a new DataFrame using the following fields from the JSON transaction data: `date`, `name`, `amount`, `category`. \n",
    "\n",
    "(For categories with more than one label, just use the first category label in the list)"
   ]
  },
  {
   "cell_type": "code",
   "execution_count": 166,
   "metadata": {},
   "outputs": [
    {
     "data": {
      "text/html": [
       "<div>\n",
       "<style scoped>\n",
       "    .dataframe tbody tr th:only-of-type {\n",
       "        vertical-align: middle;\n",
       "    }\n",
       "\n",
       "    .dataframe tbody tr th {\n",
       "        vertical-align: top;\n",
       "    }\n",
       "\n",
       "    .dataframe thead th {\n",
       "        text-align: right;\n",
       "    }\n",
       "</style>\n",
       "<table border=\"1\" class=\"dataframe\">\n",
       "  <thead>\n",
       "    <tr style=\"text-align: right;\">\n",
       "      <th></th>\n",
       "      <th>Date</th>\n",
       "      <th>Name</th>\n",
       "      <th>Amount</th>\n",
       "      <th>Category</th>\n",
       "    </tr>\n",
       "  </thead>\n",
       "  <tbody>\n",
       "    <tr>\n",
       "      <th>43</th>\n",
       "      <td>2020-03-13</td>\n",
       "      <td>Starbucks</td>\n",
       "      <td>4.33</td>\n",
       "      <td>Food and Drink</td>\n",
       "    </tr>\n",
       "    <tr>\n",
       "      <th>44</th>\n",
       "      <td>2020-03-12</td>\n",
       "      <td>SparkFun</td>\n",
       "      <td>89.40</td>\n",
       "      <td>Food and Drink</td>\n",
       "    </tr>\n",
       "    <tr>\n",
       "      <th>45</th>\n",
       "      <td>2020-03-11</td>\n",
       "      <td>INTRST PYMNT</td>\n",
       "      <td>-4.22</td>\n",
       "      <td>Transfer</td>\n",
       "    </tr>\n",
       "    <tr>\n",
       "      <th>46</th>\n",
       "      <td>2020-03-01</td>\n",
       "      <td>United Airlines</td>\n",
       "      <td>500.00</td>\n",
       "      <td>Travel</td>\n",
       "    </tr>\n",
       "    <tr>\n",
       "      <th>47</th>\n",
       "      <td>2020-02-28</td>\n",
       "      <td>Uber</td>\n",
       "      <td>6.33</td>\n",
       "      <td>Travel</td>\n",
       "    </tr>\n",
       "  </tbody>\n",
       "</table>\n",
       "</div>"
      ],
      "text/plain": [
       "          Date             Name  Amount        Category\n",
       "43  2020-03-13        Starbucks    4.33  Food and Drink\n",
       "44  2020-03-12         SparkFun   89.40  Food and Drink\n",
       "45  2020-03-11     INTRST PYMNT   -4.22        Transfer\n",
       "46  2020-03-01  United Airlines  500.00          Travel\n",
       "47  2020-02-28             Uber    6.33          Travel"
      ]
     },
     "execution_count": 166,
     "metadata": {},
     "output_type": "execute_result"
    }
   ],
   "source": [
    "transactions_df = pd.DataFrame(columns=[\"Date\", \"Name\", \"Amount\", \"Category\"])\n",
    "dates, names, amounts, cats = [],[],[],[]\n",
    "for transaction in transactions:\n",
    "    dates.append(transaction[\"date\"])\n",
    "    names.append(transaction[\"name\"])\n",
    "    amounts.append(float(transaction[\"amount\"]))\n",
    "    cats.append(transaction[\"category\"][0])\n",
    "transactions_df[\"Date\"] = dates\n",
    "transactions_df[\"Name\"] = names\n",
    "transactions_df[\"Amount\"] = amounts\n",
    "transactions_df[\"Category\"] = cats\n",
    "transactions_df.tail()"
   ]
  },
  {
   "cell_type": "markdown",
   "metadata": {},
   "source": [
    "### 4. Convert the data types to the appropriate types \n",
    "\n",
    "(i.e. datetimeindex for the date and float for the amount)"
   ]
  },
  {
   "cell_type": "code",
   "execution_count": 177,
   "metadata": {},
   "outputs": [
    {
     "ename": "KeyError",
     "evalue": "'Date'",
     "output_type": "error",
     "traceback": [
      "\u001b[1;31m---------------------------------------------------------------------------\u001b[0m",
      "\u001b[1;31mKeyError\u001b[0m                                  Traceback (most recent call last)",
      "\u001b[1;32m~\\anaconda3\\lib\\site-packages\\pandas\\core\\indexes\\base.py\u001b[0m in \u001b[0;36mget_loc\u001b[1;34m(self, key, method, tolerance)\u001b[0m\n\u001b[0;32m   2645\u001b[0m             \u001b[1;32mtry\u001b[0m\u001b[1;33m:\u001b[0m\u001b[1;33m\u001b[0m\u001b[1;33m\u001b[0m\u001b[0m\n\u001b[1;32m-> 2646\u001b[1;33m                 \u001b[1;32mreturn\u001b[0m \u001b[0mself\u001b[0m\u001b[1;33m.\u001b[0m\u001b[0m_engine\u001b[0m\u001b[1;33m.\u001b[0m\u001b[0mget_loc\u001b[0m\u001b[1;33m(\u001b[0m\u001b[0mkey\u001b[0m\u001b[1;33m)\u001b[0m\u001b[1;33m\u001b[0m\u001b[1;33m\u001b[0m\u001b[0m\n\u001b[0m\u001b[0;32m   2647\u001b[0m             \u001b[1;32mexcept\u001b[0m \u001b[0mKeyError\u001b[0m\u001b[1;33m:\u001b[0m\u001b[1;33m\u001b[0m\u001b[1;33m\u001b[0m\u001b[0m\n",
      "\u001b[1;32mpandas\\_libs\\index.pyx\u001b[0m in \u001b[0;36mpandas._libs.index.IndexEngine.get_loc\u001b[1;34m()\u001b[0m\n",
      "\u001b[1;32mpandas\\_libs\\index.pyx\u001b[0m in \u001b[0;36mpandas._libs.index.IndexEngine.get_loc\u001b[1;34m()\u001b[0m\n",
      "\u001b[1;32mpandas\\_libs\\hashtable_class_helper.pxi\u001b[0m in \u001b[0;36mpandas._libs.hashtable.PyObjectHashTable.get_item\u001b[1;34m()\u001b[0m\n",
      "\u001b[1;32mpandas\\_libs\\hashtable_class_helper.pxi\u001b[0m in \u001b[0;36mpandas._libs.hashtable.PyObjectHashTable.get_item\u001b[1;34m()\u001b[0m\n",
      "\u001b[1;31mKeyError\u001b[0m: 'Date'",
      "\nDuring handling of the above exception, another exception occurred:\n",
      "\u001b[1;31mKeyError\u001b[0m                                  Traceback (most recent call last)",
      "\u001b[1;32m<ipython-input-177-cc566a48cbe4>\u001b[0m in \u001b[0;36m<module>\u001b[1;34m\u001b[0m\n\u001b[1;32m----> 1\u001b[1;33m \u001b[0mtransactions_df\u001b[0m\u001b[1;33m.\u001b[0m\u001b[0mset_index\u001b[0m\u001b[1;33m(\u001b[0m\u001b[0mpd\u001b[0m\u001b[1;33m.\u001b[0m\u001b[0mDatetimeIndex\u001b[0m\u001b[1;33m(\u001b[0m\u001b[0mtransactions_df\u001b[0m\u001b[1;33m[\u001b[0m\u001b[1;34m'Date'\u001b[0m\u001b[1;33m]\u001b[0m\u001b[1;33m)\u001b[0m\u001b[1;33m,\u001b[0m \u001b[0minplace\u001b[0m \u001b[1;33m=\u001b[0m \u001b[1;32mTrue\u001b[0m\u001b[1;33m)\u001b[0m\u001b[1;33m\u001b[0m\u001b[1;33m\u001b[0m\u001b[0m\n\u001b[0m\u001b[0;32m      2\u001b[0m \u001b[0mtransactions_df\u001b[0m\u001b[1;33m.\u001b[0m\u001b[0mhead\u001b[0m\u001b[1;33m(\u001b[0m\u001b[1;33m)\u001b[0m\u001b[1;33m\u001b[0m\u001b[1;33m\u001b[0m\u001b[0m\n\u001b[0;32m      3\u001b[0m \u001b[0mtransactions_df\u001b[0m\u001b[1;33m.\u001b[0m\u001b[0mdrop\u001b[0m\u001b[1;33m(\u001b[0m\u001b[0mcolumns\u001b[0m \u001b[1;33m=\u001b[0m \u001b[1;33m[\u001b[0m\u001b[1;34m'Date'\u001b[0m\u001b[1;33m]\u001b[0m\u001b[1;33m,\u001b[0m \u001b[0minplace\u001b[0m \u001b[1;33m=\u001b[0m \u001b[1;32mTrue\u001b[0m\u001b[1;33m)\u001b[0m\u001b[1;33m\u001b[0m\u001b[1;33m\u001b[0m\u001b[0m\n\u001b[0;32m      4\u001b[0m \u001b[0mtransactions_df\u001b[0m\u001b[1;33m.\u001b[0m\u001b[0mtail\u001b[0m\u001b[1;33m(\u001b[0m\u001b[1;33m)\u001b[0m\u001b[1;33m\u001b[0m\u001b[1;33m\u001b[0m\u001b[0m\n",
      "\u001b[1;32m~\\anaconda3\\lib\\site-packages\\pandas\\core\\frame.py\u001b[0m in \u001b[0;36m__getitem__\u001b[1;34m(self, key)\u001b[0m\n\u001b[0;32m   2798\u001b[0m             \u001b[1;32mif\u001b[0m \u001b[0mself\u001b[0m\u001b[1;33m.\u001b[0m\u001b[0mcolumns\u001b[0m\u001b[1;33m.\u001b[0m\u001b[0mnlevels\u001b[0m \u001b[1;33m>\u001b[0m \u001b[1;36m1\u001b[0m\u001b[1;33m:\u001b[0m\u001b[1;33m\u001b[0m\u001b[1;33m\u001b[0m\u001b[0m\n\u001b[0;32m   2799\u001b[0m                 \u001b[1;32mreturn\u001b[0m \u001b[0mself\u001b[0m\u001b[1;33m.\u001b[0m\u001b[0m_getitem_multilevel\u001b[0m\u001b[1;33m(\u001b[0m\u001b[0mkey\u001b[0m\u001b[1;33m)\u001b[0m\u001b[1;33m\u001b[0m\u001b[1;33m\u001b[0m\u001b[0m\n\u001b[1;32m-> 2800\u001b[1;33m             \u001b[0mindexer\u001b[0m \u001b[1;33m=\u001b[0m \u001b[0mself\u001b[0m\u001b[1;33m.\u001b[0m\u001b[0mcolumns\u001b[0m\u001b[1;33m.\u001b[0m\u001b[0mget_loc\u001b[0m\u001b[1;33m(\u001b[0m\u001b[0mkey\u001b[0m\u001b[1;33m)\u001b[0m\u001b[1;33m\u001b[0m\u001b[1;33m\u001b[0m\u001b[0m\n\u001b[0m\u001b[0;32m   2801\u001b[0m             \u001b[1;32mif\u001b[0m \u001b[0mis_integer\u001b[0m\u001b[1;33m(\u001b[0m\u001b[0mindexer\u001b[0m\u001b[1;33m)\u001b[0m\u001b[1;33m:\u001b[0m\u001b[1;33m\u001b[0m\u001b[1;33m\u001b[0m\u001b[0m\n\u001b[0;32m   2802\u001b[0m                 \u001b[0mindexer\u001b[0m \u001b[1;33m=\u001b[0m \u001b[1;33m[\u001b[0m\u001b[0mindexer\u001b[0m\u001b[1;33m]\u001b[0m\u001b[1;33m\u001b[0m\u001b[1;33m\u001b[0m\u001b[0m\n",
      "\u001b[1;32m~\\anaconda3\\lib\\site-packages\\pandas\\core\\indexes\\base.py\u001b[0m in \u001b[0;36mget_loc\u001b[1;34m(self, key, method, tolerance)\u001b[0m\n\u001b[0;32m   2646\u001b[0m                 \u001b[1;32mreturn\u001b[0m \u001b[0mself\u001b[0m\u001b[1;33m.\u001b[0m\u001b[0m_engine\u001b[0m\u001b[1;33m.\u001b[0m\u001b[0mget_loc\u001b[0m\u001b[1;33m(\u001b[0m\u001b[0mkey\u001b[0m\u001b[1;33m)\u001b[0m\u001b[1;33m\u001b[0m\u001b[1;33m\u001b[0m\u001b[0m\n\u001b[0;32m   2647\u001b[0m             \u001b[1;32mexcept\u001b[0m \u001b[0mKeyError\u001b[0m\u001b[1;33m:\u001b[0m\u001b[1;33m\u001b[0m\u001b[1;33m\u001b[0m\u001b[0m\n\u001b[1;32m-> 2648\u001b[1;33m                 \u001b[1;32mreturn\u001b[0m \u001b[0mself\u001b[0m\u001b[1;33m.\u001b[0m\u001b[0m_engine\u001b[0m\u001b[1;33m.\u001b[0m\u001b[0mget_loc\u001b[0m\u001b[1;33m(\u001b[0m\u001b[0mself\u001b[0m\u001b[1;33m.\u001b[0m\u001b[0m_maybe_cast_indexer\u001b[0m\u001b[1;33m(\u001b[0m\u001b[0mkey\u001b[0m\u001b[1;33m)\u001b[0m\u001b[1;33m)\u001b[0m\u001b[1;33m\u001b[0m\u001b[1;33m\u001b[0m\u001b[0m\n\u001b[0m\u001b[0;32m   2649\u001b[0m         \u001b[0mindexer\u001b[0m \u001b[1;33m=\u001b[0m \u001b[0mself\u001b[0m\u001b[1;33m.\u001b[0m\u001b[0mget_indexer\u001b[0m\u001b[1;33m(\u001b[0m\u001b[1;33m[\u001b[0m\u001b[0mkey\u001b[0m\u001b[1;33m]\u001b[0m\u001b[1;33m,\u001b[0m \u001b[0mmethod\u001b[0m\u001b[1;33m=\u001b[0m\u001b[0mmethod\u001b[0m\u001b[1;33m,\u001b[0m \u001b[0mtolerance\u001b[0m\u001b[1;33m=\u001b[0m\u001b[0mtolerance\u001b[0m\u001b[1;33m)\u001b[0m\u001b[1;33m\u001b[0m\u001b[1;33m\u001b[0m\u001b[0m\n\u001b[0;32m   2650\u001b[0m         \u001b[1;32mif\u001b[0m \u001b[0mindexer\u001b[0m\u001b[1;33m.\u001b[0m\u001b[0mndim\u001b[0m \u001b[1;33m>\u001b[0m \u001b[1;36m1\u001b[0m \u001b[1;32mor\u001b[0m \u001b[0mindexer\u001b[0m\u001b[1;33m.\u001b[0m\u001b[0msize\u001b[0m \u001b[1;33m>\u001b[0m \u001b[1;36m1\u001b[0m\u001b[1;33m:\u001b[0m\u001b[1;33m\u001b[0m\u001b[1;33m\u001b[0m\u001b[0m\n",
      "\u001b[1;32mpandas\\_libs\\index.pyx\u001b[0m in \u001b[0;36mpandas._libs.index.IndexEngine.get_loc\u001b[1;34m()\u001b[0m\n",
      "\u001b[1;32mpandas\\_libs\\index.pyx\u001b[0m in \u001b[0;36mpandas._libs.index.IndexEngine.get_loc\u001b[1;34m()\u001b[0m\n",
      "\u001b[1;32mpandas\\_libs\\hashtable_class_helper.pxi\u001b[0m in \u001b[0;36mpandas._libs.hashtable.PyObjectHashTable.get_item\u001b[1;34m()\u001b[0m\n",
      "\u001b[1;32mpandas\\_libs\\hashtable_class_helper.pxi\u001b[0m in \u001b[0;36mpandas._libs.hashtable.PyObjectHashTable.get_item\u001b[1;34m()\u001b[0m\n",
      "\u001b[1;31mKeyError\u001b[0m: 'Date'"
     ]
    }
   ],
   "source": [
    "transactions_df.set_index(pd.DatetimeIndex(transactions_df[\"Date\"]), inplace = True)\n",
    "transactions_df.head()\n",
    "transactions_df.drop(columns = [\"Date\"], inplace = True)\n",
    "transactions_df.tail()"
   ]
  },
  {
   "cell_type": "markdown",
   "metadata": {},
   "source": [
    "---"
   ]
  },
  {
   "cell_type": "markdown",
   "metadata": {},
   "source": [
    "# Income Analysis with Plaid\n",
    "\n",
    "In this section, you will use the Plaid Sandbox to complete the following:\n",
    "\n",
    "1. Determine the previous year's gross income and print the results\n",
    "\n",
    "2. Determine the current monthly income and print the results\n",
    "\n",
    "3. Determine the projected yearly income and print the results"
   ]
  },
  {
   "cell_type": "code",
   "execution_count": 170,
   "metadata": {},
   "outputs": [
    {
     "name": "stdout",
     "output_type": "stream",
     "text": [
      "{'income_streams': [{'confidence': 0.99, 'days': 690, 'monthly_income': 500, 'name': 'UNITED AIRLINES'}], 'last_year_income': 6000, 'last_year_income_before_tax': 7285, 'max_number_of_overlapping_income_streams': 1, 'number_of_income_streams': 1, 'projected_yearly_income': 6085, 'projected_yearly_income_before_tax': 7389}\n",
      "Last years gross income was: $7285\n",
      "Monthly income is: $500\n",
      "Projected yearly income is: $6085\n"
     ]
    }
   ],
   "source": [
    "income_response = client.Income.get(access_token)\n",
    "# income_respose\n",
    "print(income_response['income'])\n",
    "\n",
    "last_year_gross_income = income_response[\"income\"][\"last_year_income_before_tax\"]\n",
    "print(f\"Last years gross income was: ${last_year_gross_income}\")\n",
    "\n",
    "monthly_income = income_response[\"income\"][\"income_streams\"][0][\"monthly_income\"]\n",
    "print(f\"Monthly income is: ${monthly_income}\")\n",
    "\n",
    "projected_yearly_income = income_response[\"income\"][\"projected_yearly_income\"]\n",
    "print(f\"Projected yearly income is: ${projected_yearly_income}\")"
   ]
  },
  {
   "cell_type": "markdown",
   "metadata": {},
   "source": [
    "---"
   ]
  },
  {
   "cell_type": "markdown",
   "metadata": {},
   "source": [
    "# Budget Analysis\n",
    "In this section, you will use the transactions DataFrame to analyze the customer's budget\n",
    "\n",
    "1. Calculate the total spending per category and print the results (Hint: groupby or count transactions per category)\n",
    "\n",
    "2. Generate a bar chart with the number of transactions for each category\n",
    "\n",
    "3. Calulate the expenses per month\n",
    "\n",
    "4. Plot the total expenses per month"
   ]
  },
  {
   "cell_type": "markdown",
   "metadata": {},
   "source": [
    "### Calculate the expenses per category"
   ]
  },
  {
   "cell_type": "code",
   "execution_count": 172,
   "metadata": {},
   "outputs": [
    {
     "data": {
      "text/html": [
       "<div>\n",
       "<style scoped>\n",
       "    .dataframe tbody tr th:only-of-type {\n",
       "        vertical-align: middle;\n",
       "    }\n",
       "\n",
       "    .dataframe tbody tr th {\n",
       "        vertical-align: top;\n",
       "    }\n",
       "\n",
       "    .dataframe thead th {\n",
       "        text-align: right;\n",
       "    }\n",
       "</style>\n",
       "<table border=\"1\" class=\"dataframe\">\n",
       "  <thead>\n",
       "    <tr style=\"text-align: right;\">\n",
       "      <th></th>\n",
       "      <th>Amount</th>\n",
       "    </tr>\n",
       "    <tr>\n",
       "      <th>Category</th>\n",
       "      <th></th>\n",
       "    </tr>\n",
       "  </thead>\n",
       "  <tbody>\n",
       "    <tr>\n",
       "      <th>Food and Drink</th>\n",
       "      <td>3317.19</td>\n",
       "    </tr>\n",
       "    <tr>\n",
       "      <th>Payment</th>\n",
       "      <td>6310.50</td>\n",
       "    </tr>\n",
       "    <tr>\n",
       "      <th>Recreation</th>\n",
       "      <td>235.50</td>\n",
       "    </tr>\n",
       "    <tr>\n",
       "      <th>Shops</th>\n",
       "      <td>1500.00</td>\n",
       "    </tr>\n",
       "    <tr>\n",
       "      <th>Transfer</th>\n",
       "      <td>20537.34</td>\n",
       "    </tr>\n",
       "    <tr>\n",
       "      <th>Travel</th>\n",
       "      <td>35.19</td>\n",
       "    </tr>\n",
       "  </tbody>\n",
       "</table>\n",
       "</div>"
      ],
      "text/plain": [
       "                  Amount\n",
       "Category                \n",
       "Food and Drink   3317.19\n",
       "Payment          6310.50\n",
       "Recreation        235.50\n",
       "Shops            1500.00\n",
       "Transfer        20537.34\n",
       "Travel             35.19"
      ]
     },
     "execution_count": 172,
     "metadata": {},
     "output_type": "execute_result"
    }
   ],
   "source": [
    "expenses_by_cat = transactions_df.groupby('Category').sum()\n",
    "expenses_by_cat"
   ]
  },
  {
   "cell_type": "code",
   "execution_count": 175,
   "metadata": {},
   "outputs": [
    {
     "data": {
      "text/plain": [
       "array([<matplotlib.axes._subplots.AxesSubplot object at 0x000002E9AB149BC8>],\n",
       "      dtype=object)"
      ]
     },
     "execution_count": 175,
     "metadata": {},
     "output_type": "execute_result"
    },
    {
     "data": {
      "image/png": "[encoded data removed]",
      "text/plain": [
       "<Figure size 720x720 with 1 Axes>"
      ]
     },
     "metadata": {},
     "output_type": "display_data"
    }
   ],
   "source": [
    "expenses_by_cat.plot(kind = \"pie\", subplots = True, title = \"Expenses by Category\", figsize = (10,10))\n"
   ]
  },
  {
   "cell_type": "code",
   "execution_count": null,
   "metadata": {},
   "outputs": [],
   "source": []
  }
 ],
 "metadata": {
  "kernelspec": {
   "display_name": "Python 3",
   "language": "python",
   "name": "python3"
  },
  "language_info": {
   "codemirror_mode": {
    "name": "ipython",
    "version": 3
   },
   "file_extension": ".py",
   "mimetype": "text/x-python",
   "name": "python",
   "nbconvert_exporter": "python",
   "pygments_lexer": "ipython3",
   "version": "3.7.6"
  }
 },
 "nbformat": 4,
 "nbformat_minor": 4
}
